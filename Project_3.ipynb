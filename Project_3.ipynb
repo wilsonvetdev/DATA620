{
 "cells": [
  {
   "cell_type": "markdown",
   "id": "abroad-option",
   "metadata": {},
   "source": [
    "# Gender Classifier - Project 3\n",
    "**DATA620**\n",
    "<br>\n",
    "**Wilson Ng**"
   ]
  },
  {
   "cell_type": "markdown",
   "id": "statistical-colors",
   "metadata": {},
   "source": [
    "Using any of the three classifiers described in chapter 6 of Natural Language Processing with Python(or any classifiers you find on the Internet), and any features you can think of, build the best name gender classifier you can.\n",
    "<br>\n",
    "1. Begin by splitting the Names Corpus into three subsets: 500 words for the test set, 500 words for the dev-test set, and the remaining 6900 words for the training set.\n",
    "2. Then, starting with the example name gender classifier, make incremental improvements.\n",
    "3. Use the dev-test set to check your progress.\n",
    "4. Once you are satisfied with your classifier, check its final performance on the test set.\n",
    "<br>\n",
    "\n",
    "How does the performance on the test set compare to the performance on the dev-test set? Is this what you'd expect?\n"
   ]
  },
  {
   "cell_type": "code",
   "execution_count": 159,
   "id": "banned-karaoke",
   "metadata": {},
   "outputs": [],
   "source": [
    "from nltk.corpus import names\n",
    "from nltk import NaiveBayesClassifier\n",
    "from nltk import classify\n",
    "import random"
   ]
  },
  {
   "cell_type": "code",
   "execution_count": 160,
   "id": "modern-crisis",
   "metadata": {},
   "outputs": [],
   "source": [
    "names = ([(name, 'male') for name in names.words('male.txt')] +\n",
    "         [(name, 'female') for name in names.words('female.txt')])\n",
    "\n",
    "random.shuffle(names)"
   ]
  },
  {
   "cell_type": "markdown",
   "id": "selective-stadium",
   "metadata": {},
   "source": [
    "Function provided by the book to extract features of the data. In this case, we have the last letter and last two letters of a given name."
   ]
  },
  {
   "cell_type": "code",
   "execution_count": 161,
   "id": "brutal-questionnaire",
   "metadata": {},
   "outputs": [
    {
     "data": {
      "text/plain": [
       "{'suffix1': 'k', 'suffix2': 'ek'}"
      ]
     },
     "execution_count": 161,
     "metadata": {},
     "output_type": "execute_result"
    }
   ],
   "source": [
    "def gender_features(word):\n",
    "    return {\n",
    "        'suffix1': word[-1:],\n",
    "        'suffix2': word[-2:]\n",
    "    }\n",
    "\n",
    "gender_features('shrek')"
   ]
  },
  {
   "cell_type": "markdown",
   "id": "trained-offset",
   "metadata": {},
   "source": [
    "Splitting out the data into three sets."
   ]
  },
  {
   "cell_type": "code",
   "execution_count": 184,
   "id": "surprised-startup",
   "metadata": {},
   "outputs": [],
   "source": [
    "featuresets = [(gender_features(name), g) for (name, g) in names]\n",
    "\n",
    "train_set, test_set = featuresets[500:], featuresets[:500]\n",
    "\n",
    "classifier = NaiveBayesClassifier.train(train_set)"
   ]
  },
  {
   "cell_type": "markdown",
   "id": "encouraging-lease",
   "metadata": {},
   "source": [
    "Testing the classify method based on on gender_features output. So far so good."
   ]
  },
  {
   "cell_type": "code",
   "execution_count": 188,
   "id": "sized-springer",
   "metadata": {},
   "outputs": [
    {
     "data": {
      "text/plain": [
       "'male'"
      ]
     },
     "execution_count": 188,
     "metadata": {},
     "output_type": "execute_result"
    }
   ],
   "source": [
    "classifier.classify(gender_features('Ronaldo'))"
   ]
  },
  {
   "cell_type": "code",
   "execution_count": 190,
   "id": "compact-reward",
   "metadata": {},
   "outputs": [
    {
     "data": {
      "text/plain": [
       "'female'"
      ]
     },
     "execution_count": 190,
     "metadata": {},
     "output_type": "execute_result"
    }
   ],
   "source": [
    "classifier.classify(gender_features('Angelina'))"
   ]
  },
  {
   "cell_type": "markdown",
   "id": "latter-johnston",
   "metadata": {},
   "source": [
    "Viewing accuracy of the classifier with the test_set."
   ]
  },
  {
   "cell_type": "code",
   "execution_count": 187,
   "id": "searching-cattle",
   "metadata": {},
   "outputs": [
    {
     "name": "stdout",
     "output_type": "stream",
     "text": [
      "0.772\n"
     ]
    }
   ],
   "source": [
    "print(classify.accuracy(classifier, test_set))"
   ]
  },
  {
   "cell_type": "code",
   "execution_count": 166,
   "id": "virtual-violin",
   "metadata": {},
   "outputs": [
    {
     "name": "stdout",
     "output_type": "stream",
     "text": [
      "Most Informative Features\n",
      "                 suffix2 = 'na'           female : male   =    166.7 : 1.0\n",
      "                 suffix2 = 'la'           female : male   =     73.9 : 1.0\n",
      "                 suffix2 = 'ia'           female : male   =     39.7 : 1.0\n",
      "                 suffix2 = 'sa'           female : male   =     34.9 : 1.0\n",
      "                 suffix1 = 'a'            female : male   =     34.4 : 1.0\n"
     ]
    }
   ],
   "source": [
    "classifier.show_most_informative_features(5)"
   ]
  },
  {
   "cell_type": "code",
   "execution_count": 167,
   "id": "synthetic-friend",
   "metadata": {},
   "outputs": [],
   "source": [
    "# When working with large corpora, constructing a single list that contains the features of every instance\n",
    "# can use up a large amount of memory.\n",
    "# In these cases, use the function nltk.classfy.apply_features, which\n",
    "# returns an object that acts like a list but does not store all the feature sets in memory:\n",
    "\n",
    "train_set = classify.apply_features(gender_features, names[500:])\n",
    "test_set = classify.apply_features(gender_features, names[:500])"
   ]
  },
  {
   "cell_type": "code",
   "execution_count": 168,
   "id": "reflected-presence",
   "metadata": {},
   "outputs": [],
   "source": [
    "# what not to do, overfitting\n",
    "\n",
    "letters = [chr(x) for x in range(ord('a'), ord('z') + 1)]\n",
    "\n",
    "def gender_features2(name):\n",
    "    features = {}\n",
    "    features['firstletter'] = name[0].lower()\n",
    "    features['lastletter'] = name[-1].lower()\n",
    "    for letter in letters:\n",
    "        features['count(%s)' % letter] = name.lower().count(letter)\n",
    "        features['has(%s)' % letter] = (letter in name.lower())\n",
    "        return features\n",
    "    "
   ]
  },
  {
   "cell_type": "code",
   "execution_count": 169,
   "id": "early-aircraft",
   "metadata": {},
   "outputs": [
    {
     "data": {
      "text/plain": [
       "{'firstletter': 'j', 'lastletter': 'n', 'count(a)': 0, 'has(a)': False}"
      ]
     },
     "execution_count": 169,
     "metadata": {},
     "output_type": "execute_result"
    }
   ],
   "source": [
    "gender_features2('John')"
   ]
  },
  {
   "cell_type": "markdown",
   "id": "deadly-trail",
   "metadata": {},
   "source": [
    "From my understanding of the book, we should split the data into three sets like below:"
   ]
  },
  {
   "cell_type": "code",
   "execution_count": 174,
   "id": "devoted-funeral",
   "metadata": {},
   "outputs": [],
   "source": [
    "train_names = names[1500:]\n",
    "devtest_names = names[500:1500]\n",
    "test_names = names[:500]"
   ]
  },
  {
   "cell_type": "code",
   "execution_count": 175,
   "id": "aware-least",
   "metadata": {},
   "outputs": [
    {
     "name": "stdout",
     "output_type": "stream",
     "text": [
      "0.795\n"
     ]
    }
   ],
   "source": [
    "# The training set is used to train the model\n",
    "# the dev-test set is used to perform error analysis\n",
    "# the test set serves in our final evaluation of the system\n",
    "\n",
    "train_set = [(gender_features(n), g) for (n, g) in train_names]\n",
    "devtest_set = [(gender_features(n), g) for (n, g) in devtest_names]\n",
    "test_set = [(gender_features(n), g) for (n, g) in test_names]\n",
    "\n",
    "classifier = NaiveBayesClassifier.train(train_set)\n",
    "\n",
    "print(classify.accuracy(classifier, devtest_set))"
   ]
  },
  {
   "cell_type": "markdown",
   "id": "funny-oasis",
   "metadata": {},
   "source": [
    "Once an initial set of features has been chosen, a very productive method for refining\n",
    "the feature set is error analysis.\n"
   ]
  },
  {
   "cell_type": "code",
   "execution_count": 191,
   "id": "coordinated-visiting",
   "metadata": {},
   "outputs": [],
   "source": [
    "# Using the dev-test set, we can generate a list of the errors\n",
    "# that the classifier makes when predicting name genders:\n",
    "\n",
    "errors = []\n",
    "\n",
    "for (name, tag) in devtest_names:\n",
    "    guess = classifier.classify(gender_features(name))\n",
    "    if guess != tag:\n",
    "        errors.append( (tag, guess, name) )"
   ]
  },
  {
   "cell_type": "code",
   "execution_count": 192,
   "id": "beginning-architecture",
   "metadata": {},
   "outputs": [
    {
     "name": "stdout",
     "output_type": "stream",
     "text": [
      "correct=female   guess=male     name=Adelind                       \n",
      "correct=female   guess=male     name=Adrien                        \n",
      "correct=female   guess=male     name=Aeriell                       \n",
      "correct=female   guess=male     name=Ajay                          \n",
      "correct=female   guess=male     name=Alexis                        \n",
      "correct=female   guess=male     name=Alis                          \n",
      "correct=female   guess=male     name=Allison                       \n",
      "correct=female   guess=male     name=Amabel                        \n",
      "correct=female   guess=male     name=Anet                          \n",
      "correct=female   guess=male     name=Aubry                         \n",
      "correct=female   guess=male     name=Bamby                         \n",
      "correct=female   guess=male     name=Beilul                        \n",
      "correct=female   guess=male     name=Beret                         \n",
      "correct=female   guess=male     name=Berget                        \n",
      "correct=female   guess=male     name=Bevvy                         \n",
      "correct=female   guess=male     name=Bill                          \n",
      "correct=female   guess=male     name=Blake                         \n",
      "correct=female   guess=male     name=Brit                          \n",
      "correct=female   guess=male     name=Brooks                        \n",
      "correct=female   guess=male     name=Carleen                       \n",
      "correct=female   guess=male     name=Carolin                       \n",
      "correct=female   guess=male     name=Caron                         \n",
      "correct=female   guess=male     name=Cecil                         \n",
      "correct=female   guess=male     name=Charin                        \n",
      "correct=female   guess=male     name=Chloris                       \n",
      "correct=female   guess=male     name=Chriss                        \n",
      "correct=female   guess=male     name=Ciel                          \n",
      "correct=female   guess=male     name=Clair                         \n",
      "correct=female   guess=male     name=Colleen                       \n",
      "correct=female   guess=male     name=Coreen                        \n",
      "correct=female   guess=male     name=Corry                         \n",
      "correct=female   guess=male     name=Crystal                       \n",
      "correct=female   guess=male     name=Cybal                         \n",
      "correct=female   guess=male     name=Cybil                         \n",
      "correct=female   guess=male     name=Dael                          \n",
      "correct=female   guess=male     name=Daniel                        \n",
      "correct=female   guess=male     name=Diamond                       \n",
      "correct=female   guess=male     name=Dory                          \n",
      "correct=female   guess=male     name=Dot                           \n",
      "correct=female   guess=male     name=Evy                           \n",
      "correct=female   guess=male     name=Fallon                        \n",
      "correct=female   guess=male     name=Fern                          \n",
      "correct=female   guess=male     name=Flor                          \n",
      "correct=female   guess=male     name=Frank                         \n",
      "correct=female   guess=male     name=Friederike                    \n",
      "correct=female   guess=male     name=Gaynor                        \n",
      "correct=female   guess=male     name=Glen                          \n",
      "correct=female   guess=male     name=Gredel                        \n",
      "correct=female   guess=male     name=Gretel                        \n",
      "correct=female   guess=male     name=Hannis                        \n",
      "correct=female   guess=male     name=Hester                        \n",
      "correct=female   guess=male     name=Ivett                         \n",
      "correct=female   guess=male     name=Jasmin                        \n",
      "correct=female   guess=male     name=Jaynell                       \n",
      "correct=female   guess=male     name=Jilleen                       \n",
      "correct=female   guess=male     name=Jo                            \n",
      "correct=female   guess=male     name=Joannes                       \n",
      "correct=female   guess=male     name=Joy                           \n",
      "correct=female   guess=male     name=Juliet                        \n",
      "correct=female   guess=male     name=Karol                         \n",
      "correct=female   guess=male     name=Kary                          \n",
      "correct=female   guess=male     name=Katleen                       \n",
      "correct=female   guess=male     name=Kay                           \n",
      "correct=female   guess=male     name=Kaylil                        \n",
      "correct=female   guess=male     name=Kerstin                       \n",
      "correct=female   guess=male     name=Kit                           \n",
      "correct=female   guess=male     name=Lark                          \n",
      "correct=female   guess=male     name=Laural                        \n",
      "correct=female   guess=male     name=Laurel                        \n",
      "correct=female   guess=male     name=Leanor                        \n",
      "correct=female   guess=male     name=Lilias                        \n",
      "correct=female   guess=male     name=Lillian                       \n",
      "correct=female   guess=male     name=Lorrin                        \n",
      "correct=female   guess=male     name=Margot                        \n",
      "correct=female   guess=male     name=Marilin                       \n",
      "correct=female   guess=male     name=Max                           \n",
      "correct=female   guess=male     name=Mead                          \n",
      "correct=female   guess=male     name=Meagan                        \n",
      "correct=female   guess=male     name=Mercedes                      \n",
      "correct=female   guess=male     name=Mildrid                       \n",
      "correct=female   guess=male     name=Nert                          \n",
      "correct=female   guess=male     name=Nicol                         \n",
      "correct=female   guess=male     name=Ninon                         \n",
      "correct=female   guess=male     name=Pat                           \n",
      "correct=female   guess=male     name=Perl                          \n",
      "correct=female   guess=male     name=Raquel                        \n",
      "correct=female   guess=male     name=Renell                        \n",
      "correct=female   guess=male     name=Roch                          \n",
      "correct=female   guess=male     name=Rosamond                      \n",
      "correct=female   guess=male     name=Shannon                       \n",
      "correct=female   guess=male     name=Shanon                        \n",
      "correct=female   guess=male     name=Sherry                        \n",
      "correct=female   guess=male     name=Siobhan                       \n",
      "correct=female   guess=male     name=Storm                         \n",
      "correct=female   guess=male     name=Tiff                          \n",
      "correct=female   guess=male     name=Tish                          \n",
      "correct=female   guess=male     name=Van                           \n",
      "correct=female   guess=male     name=Wandis                        \n",
      "correct=female   guess=male     name=Wileen                        \n",
      "correct=female   guess=male     name=Willow                        \n",
      "correct=female   guess=male     name=Wilow                         \n",
      "correct=female   guess=male     name=Winnifred                     \n",
      "correct=female   guess=female   name=Abdullah                      \n",
      "correct=female   guess=female   name=Alaa                          \n",
      "correct=female   guess=female   name=Alfonse                       \n",
      "correct=female   guess=female   name=Alphonse                      \n",
      "correct=female   guess=female   name=Ambrose                       \n",
      "correct=female   guess=female   name=Andy                          \n",
      "correct=female   guess=female   name=Antoni                        \n",
      "correct=female   guess=female   name=Artie                         \n",
      "correct=female   guess=female   name=Ashley                        \n",
      "correct=female   guess=female   name=Aubrey                        \n",
      "correct=female   guess=female   name=Bartholemy                    \n",
      "correct=female   guess=female   name=Beale                         \n",
      "correct=female   guess=female   name=Benji                         \n",
      "correct=female   guess=female   name=Bentley                       \n",
      "correct=female   guess=female   name=Berkie                        \n",
      "correct=female   guess=female   name=Billie                        \n",
      "correct=female   guess=female   name=Broddie                       \n",
      "correct=female   guess=female   name=Bryn                          \n",
      "correct=female   guess=female   name=Bubba                         \n",
      "correct=female   guess=female   name=Carey                         \n",
      "correct=female   guess=female   name=Claire                        \n",
      "correct=female   guess=female   name=Clarance                      \n",
      "correct=female   guess=female   name=Cobbie                        \n",
      "correct=female   guess=female   name=Costa                         \n",
      "correct=female   guess=female   name=Dale                          \n",
      "correct=female   guess=female   name=Davie                         \n",
      "correct=female   guess=female   name=Deane                         \n",
      "correct=female   guess=female   name=Demetri                       \n",
      "correct=female   guess=female   name=Dickey                        \n",
      "correct=female   guess=female   name=Dominique                     \n",
      "correct=female   guess=female   name=Ernie                         \n",
      "correct=female   guess=female   name=Felipe                        \n",
      "correct=female   guess=female   name=Flynn                         \n",
      "correct=female   guess=female   name=Fonsie                        \n",
      "correct=female   guess=female   name=Garcia                        \n",
      "correct=female   guess=female   name=Garey                         \n",
      "correct=female   guess=female   name=Georgia                       \n",
      "correct=female   guess=female   name=Gere                          \n",
      "correct=female   guess=female   name=Giffie                        \n",
      "correct=female   guess=female   name=Granville                     \n",
      "correct=female   guess=female   name=Haley                         \n",
      "correct=female   guess=female   name=Hasty                         \n",
      "correct=female   guess=female   name=Herve                         \n",
      "correct=female   guess=female   name=Horace                        \n",
      "correct=female   guess=female   name=Huntley                       \n",
      "correct=female   guess=female   name=Ikey                          \n",
      "correct=female   guess=female   name=Isidore                       \n",
      "correct=female   guess=female   name=Jean-Christophe               \n",
      "correct=female   guess=female   name=Jeramie                       \n",
      "correct=female   guess=female   name=Joshuah                       \n",
      "correct=female   guess=female   name=Judah                         \n",
      "correct=female   guess=female   name=Keene                         \n",
      "correct=female   guess=female   name=Kenny                         \n",
      "correct=female   guess=female   name=Laurence                      \n",
      "correct=female   guess=female   name=Laurie                        \n",
      "correct=female   guess=female   name=Lesley                        \n",
      "correct=female   guess=female   name=Louie                         \n",
      "correct=female   guess=female   name=Maddy                         \n",
      "correct=female   guess=female   name=Marve                         \n",
      "correct=female   guess=female   name=Mendie                        \n",
      "correct=female   guess=female   name=Michale                       \n",
      "correct=female   guess=female   name=Moore                         \n",
      "correct=female   guess=female   name=Noble                         \n",
      "correct=female   guess=female   name=Ollie                         \n",
      "correct=female   guess=female   name=Page                          \n",
      "correct=female   guess=female   name=Pate                          \n",
      "correct=female   guess=female   name=Pennie                        \n",
      "correct=female   guess=female   name=Petey                         \n",
      "correct=female   guess=female   name=Quincy                        \n",
      "correct=female   guess=female   name=Rabbi                         \n",
      "correct=female   guess=female   name=Reece                         \n",
      "correct=female   guess=female   name=Roice                         \n",
      "correct=female   guess=female   name=Samuele                       \n",
      "correct=female   guess=female   name=Scotty                        \n",
      "correct=female   guess=female   name=Shane                         \n",
      "correct=female   guess=female   name=Skye                          \n",
      "correct=female   guess=female   name=Sonnie                        \n",
      "correct=female   guess=female   name=Steve                         \n",
      "correct=female   guess=female   name=Sully                         \n",
      "correct=female   guess=female   name=Taite                         \n",
      "correct=female   guess=female   name=Teddie                        \n",
      "correct=female   guess=female   name=Thane                         \n",
      "correct=female   guess=female   name=Tremayne                      \n",
      "correct=female   guess=female   name=Tully                         \n",
      "correct=female   guess=female   name=Verney                        \n",
      "correct=female   guess=female   name=Wallace                       \n",
      "correct=female   guess=female   name=Wally                         \n",
      "correct=female   guess=female   name=Welbie                        \n",
      "correct=female   guess=female   name=Willi                         \n",
      "correct=female   guess=female   name=Willie                        \n",
      "correct=female   guess=female   name=Wynn                          \n",
      "correct=female   guess=female   name=Yardley                       \n",
      "correct=female   guess=female   name=Zebedee                       \n"
     ]
    }
   ],
   "source": [
    "for (tags, guess, name) in sorted(errors):\n",
    "    print('correct=%-8s guess=%-8s name=%-30s' % (tag, guess, name))"
   ]
  },
  {
   "cell_type": "markdown",
   "id": "atomic-reviewer",
   "metadata": {},
   "source": [
    "I also experimented with Scikit-learn, however, the accuracy is not as high compared to following the instructions on the book."
   ]
  },
  {
   "cell_type": "code",
   "execution_count": 111,
   "id": "instrumental-pasta",
   "metadata": {},
   "outputs": [],
   "source": [
    "from sklearn.feature_extraction.text import CountVectorizer\n",
    "from sklearn.model_selection import train_test_split\n",
    "from sklearn import metrics\n",
    "from sklearn.naive_bayes import MultinomialNB\n",
    "import numpy as np\n",
    "import pandas as pd"
   ]
  },
  {
   "cell_type": "markdown",
   "id": "decreased-burlington",
   "metadata": {},
   "source": [
    "Scikit-learn works well with dataframes so I'm converting the names data into a dataframe instead of a list of tuples."
   ]
  },
  {
   "cell_type": "code",
   "execution_count": 202,
   "id": "confident-specification",
   "metadata": {},
   "outputs": [
    {
     "data": {
      "text/html": [
       "<div>\n",
       "<style scoped>\n",
       "    .dataframe tbody tr th:only-of-type {\n",
       "        vertical-align: middle;\n",
       "    }\n",
       "\n",
       "    .dataframe tbody tr th {\n",
       "        vertical-align: top;\n",
       "    }\n",
       "\n",
       "    .dataframe thead th {\n",
       "        text-align: right;\n",
       "    }\n",
       "</style>\n",
       "<table border=\"1\" class=\"dataframe\">\n",
       "  <thead>\n",
       "    <tr style=\"text-align: right;\">\n",
       "      <th></th>\n",
       "      <th>Name</th>\n",
       "      <th>Gender</th>\n",
       "    </tr>\n",
       "  </thead>\n",
       "  <tbody>\n",
       "    <tr>\n",
       "      <th>0</th>\n",
       "      <td>Angelina</td>\n",
       "      <td>female</td>\n",
       "    </tr>\n",
       "    <tr>\n",
       "      <th>1</th>\n",
       "      <td>Brett</td>\n",
       "      <td>female</td>\n",
       "    </tr>\n",
       "    <tr>\n",
       "      <th>2</th>\n",
       "      <td>Adolfo</td>\n",
       "      <td>male</td>\n",
       "    </tr>\n",
       "    <tr>\n",
       "      <th>3</th>\n",
       "      <td>Fanechka</td>\n",
       "      <td>female</td>\n",
       "    </tr>\n",
       "    <tr>\n",
       "      <th>4</th>\n",
       "      <td>Maury</td>\n",
       "      <td>male</td>\n",
       "    </tr>\n",
       "  </tbody>\n",
       "</table>\n",
       "</div>"
      ],
      "text/plain": [
       "       Name  Gender\n",
       "0  Angelina  female\n",
       "1     Brett  female\n",
       "2    Adolfo    male\n",
       "3  Fanechka  female\n",
       "4     Maury    male"
      ]
     },
     "execution_count": 202,
     "metadata": {},
     "output_type": "execute_result"
    }
   ],
   "source": [
    "names_df = pd.DataFrame(names, columns=['Name', 'Gender'])\n",
    "\n",
    "names_df.head()"
   ]
  },
  {
   "cell_type": "markdown",
   "id": "registered-webcam",
   "metadata": {},
   "source": [
    "Getting the last two letters of a given name and adding it to the dataframe."
   ]
  },
  {
   "cell_type": "code",
   "execution_count": 203,
   "id": "lyric-better",
   "metadata": {},
   "outputs": [
    {
     "data": {
      "text/html": [
       "<div>\n",
       "<style scoped>\n",
       "    .dataframe tbody tr th:only-of-type {\n",
       "        vertical-align: middle;\n",
       "    }\n",
       "\n",
       "    .dataframe tbody tr th {\n",
       "        vertical-align: top;\n",
       "    }\n",
       "\n",
       "    .dataframe thead th {\n",
       "        text-align: right;\n",
       "    }\n",
       "</style>\n",
       "<table border=\"1\" class=\"dataframe\">\n",
       "  <thead>\n",
       "    <tr style=\"text-align: right;\">\n",
       "      <th></th>\n",
       "      <th>Name</th>\n",
       "      <th>Gender</th>\n",
       "      <th>last_two_letters</th>\n",
       "    </tr>\n",
       "  </thead>\n",
       "  <tbody>\n",
       "    <tr>\n",
       "      <th>0</th>\n",
       "      <td>Angelina</td>\n",
       "      <td>female</td>\n",
       "      <td>na</td>\n",
       "    </tr>\n",
       "    <tr>\n",
       "      <th>1</th>\n",
       "      <td>Brett</td>\n",
       "      <td>female</td>\n",
       "      <td>tt</td>\n",
       "    </tr>\n",
       "    <tr>\n",
       "      <th>2</th>\n",
       "      <td>Adolfo</td>\n",
       "      <td>male</td>\n",
       "      <td>fo</td>\n",
       "    </tr>\n",
       "    <tr>\n",
       "      <th>3</th>\n",
       "      <td>Fanechka</td>\n",
       "      <td>female</td>\n",
       "      <td>ka</td>\n",
       "    </tr>\n",
       "    <tr>\n",
       "      <th>4</th>\n",
       "      <td>Maury</td>\n",
       "      <td>male</td>\n",
       "      <td>ry</td>\n",
       "    </tr>\n",
       "    <tr>\n",
       "      <th>...</th>\n",
       "      <td>...</td>\n",
       "      <td>...</td>\n",
       "      <td>...</td>\n",
       "    </tr>\n",
       "    <tr>\n",
       "      <th>7939</th>\n",
       "      <td>Jacinta</td>\n",
       "      <td>female</td>\n",
       "      <td>ta</td>\n",
       "    </tr>\n",
       "    <tr>\n",
       "      <th>7940</th>\n",
       "      <td>Ed</td>\n",
       "      <td>male</td>\n",
       "      <td>Ed</td>\n",
       "    </tr>\n",
       "    <tr>\n",
       "      <th>7941</th>\n",
       "      <td>Kaia</td>\n",
       "      <td>female</td>\n",
       "      <td>ia</td>\n",
       "    </tr>\n",
       "    <tr>\n",
       "      <th>7942</th>\n",
       "      <td>Saul</td>\n",
       "      <td>male</td>\n",
       "      <td>ul</td>\n",
       "    </tr>\n",
       "    <tr>\n",
       "      <th>7943</th>\n",
       "      <td>Carlota</td>\n",
       "      <td>female</td>\n",
       "      <td>ta</td>\n",
       "    </tr>\n",
       "  </tbody>\n",
       "</table>\n",
       "<p>7944 rows × 3 columns</p>\n",
       "</div>"
      ],
      "text/plain": [
       "          Name  Gender last_two_letters\n",
       "0     Angelina  female               na\n",
       "1        Brett  female               tt\n",
       "2       Adolfo    male               fo\n",
       "3     Fanechka  female               ka\n",
       "4        Maury    male               ry\n",
       "...        ...     ...              ...\n",
       "7939   Jacinta  female               ta\n",
       "7940        Ed    male               Ed\n",
       "7941      Kaia  female               ia\n",
       "7942      Saul    male               ul\n",
       "7943   Carlota  female               ta\n",
       "\n",
       "[7944 rows x 3 columns]"
      ]
     },
     "execution_count": 203,
     "metadata": {},
     "output_type": "execute_result"
    }
   ],
   "source": [
    "def get_last_two_letters(name):\n",
    "    return name[-2:]\n",
    "\n",
    "names_df['last_two_letters'] = names_df['Name'].apply(get_last_two_letters)\n",
    "\n",
    "names_df"
   ]
  },
  {
   "cell_type": "markdown",
   "id": "single-command",
   "metadata": {},
   "source": [
    "Using train_test_split to split the data into separate sets"
   ]
  },
  {
   "cell_type": "code",
   "execution_count": 212,
   "id": "inappropriate-costs",
   "metadata": {},
   "outputs": [],
   "source": [
    "y = names_df.Gender\n",
    "\n",
    "X_train, X_test, y_train, y_test = train_test_split(names_df['last_two_letters'], y, test_size = 0.30, random_state = 53)"
   ]
  },
  {
   "cell_type": "markdown",
   "id": "cardiac-listening",
   "metadata": {},
   "source": [
    "Created a count_vectorizer instance and trained on the given features, which are the last two letters of all the names in the training set."
   ]
  },
  {
   "cell_type": "code",
   "execution_count": 220,
   "id": "worthy-process",
   "metadata": {},
   "outputs": [
    {
     "name": "stdout",
     "output_type": "stream",
     "text": [
      "['ab', 'ac', 'ad', 'ae', 'af', 'ag', 'ah', 'ai', 'aj', 'ak']\n"
     ]
    }
   ],
   "source": [
    "count_vectorizer = CountVectorizer()\n",
    "\n",
    "count_train = count_vectorizer.fit_transform(X_train)\n",
    "\n",
    "count_test = count_vectorizer.transform(X_test)\n",
    "\n",
    "print(count_vectorizer.get_feature_names()[:10])"
   ]
  },
  {
   "cell_type": "markdown",
   "id": "transparent-phrase",
   "metadata": {},
   "source": [
    "Fitting the classifier with training data set(count_train) and training labels(y_train).\n",
    "<br>\n",
    "Also assessing accuracy score and producing a confusion matrix.\n",
    "<br>\n",
    "The confusing matrix shows that female names were classified correctly for 1330 of them and wrongly for 176 of them.\n",
    "<br>\n",
    "The matrix also shows that male names were classified correctly for 527 of them and wrongly for 351 of them.\n",
    "<br>\n",
    "This might indicate that there were female names to train the data so the correct results might have skewed due to more training data on female names."
   ]
  },
  {
   "cell_type": "code",
   "execution_count": 234,
   "id": "involved-advertising",
   "metadata": {},
   "outputs": [
    {
     "name": "stdout",
     "output_type": "stream",
     "text": [
      "0.7789429530201343\n",
      "[[1330  176]\n",
      " [ 351  527]]\n"
     ]
    }
   ],
   "source": [
    "nb_classifier = MultinomialNB()\n",
    "\n",
    "\n",
    "nb_classifier.fit(count_train, y_train)\n",
    "\n",
    "\n",
    "pred = nb_classifier.predict(count_test)\n",
    "\n",
    "\n",
    "score = metrics.accuracy_score(y_test, pred)\n",
    "print(score)\n",
    "\n",
    "\n",
    "cm = metrics.confusion_matrix(y_test, pred, labels=['female', 'male'])\n",
    "print(cm)"
   ]
  },
  {
   "cell_type": "markdown",
   "id": "specified-state",
   "metadata": {},
   "source": [
    "One way to evaluate and improve the accuracy score of our classifier is by tweaking the alpha values.\n",
    "<br>\n",
    "However, I don't see any significant differences between values raning from 0.0 to 1.0 below. I might have implemented this function wrong."
   ]
  },
  {
   "cell_type": "code",
   "execution_count": 235,
   "id": "double-guarantee",
   "metadata": {},
   "outputs": [
    {
     "name": "stdout",
     "output_type": "stream",
     "text": [
      "Alpha:  0.0\n",
      "Score:  0.7789429530201343\n",
      "\n",
      "Alpha:  0.1\n",
      "Score:  0.7789429530201343\n",
      "\n",
      "Alpha:  0.2\n",
      "Score:  0.7789429530201343\n",
      "\n",
      "Alpha:  0.30000000000000004\n",
      "Score:  0.7789429530201343\n",
      "\n",
      "Alpha:  0.4\n",
      "Score:  0.7789429530201343\n",
      "\n",
      "Alpha:  0.5\n",
      "Score:  0.7789429530201343\n",
      "\n",
      "Alpha:  0.6000000000000001\n",
      "Score:  0.7789429530201343\n",
      "\n",
      "Alpha:  0.7000000000000001\n",
      "Score:  0.7789429530201343\n",
      "\n",
      "Alpha:  0.8\n",
      "Score:  0.7789429530201343\n",
      "\n",
      "Alpha:  0.9\n",
      "Score:  0.7789429530201343\n",
      "\n"
     ]
    },
    {
     "name": "stderr",
     "output_type": "stream",
     "text": [
      "/Users/WN/opt/anaconda3/lib/python3.7/site-packages/sklearn/naive_bayes.py:512: UserWarning: alpha too small will result in numeric errors, setting alpha = 1.0e-10\n",
      "  'setting alpha = %.1e' % _ALPHA_MIN)\n"
     ]
    }
   ],
   "source": [
    "alphas = np.arange(0, 1, 0.1)\n",
    "\n",
    "def train_and_predict(alpha):\n",
    "    nb_classifier = MultinomialNB(alpha=alpha)\n",
    "\n",
    "    nb_classifier.fit(count_train, y_train)\n",
    "\n",
    "    pred = nb_classifier.predict(count_test)\n",
    "\n",
    "    score = metrics.accuracy_score(y_test, pred)\n",
    "    return score\n",
    "\n",
    "for alpha in alphas:\n",
    "    print('Alpha: ', alpha)\n",
    "    print('Score: ', train_and_predict(alpha))\n",
    "    print()\n"
   ]
  },
  {
   "cell_type": "code",
   "execution_count": null,
   "id": "brilliant-plymouth",
   "metadata": {},
   "outputs": [],
   "source": []
  }
 ],
 "metadata": {
  "kernelspec": {
   "display_name": "Python 3",
   "language": "python",
   "name": "python3"
  },
  "language_info": {
   "codemirror_mode": {
    "name": "ipython",
    "version": 3
   },
   "file_extension": ".py",
   "mimetype": "text/x-python",
   "name": "python",
   "nbconvert_exporter": "python",
   "pygments_lexer": "ipython3",
   "version": "3.7.7"
  }
 },
 "nbformat": 4,
 "nbformat_minor": 5
}
